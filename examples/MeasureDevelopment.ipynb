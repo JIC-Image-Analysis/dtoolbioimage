{
 "cells": [
  {
   "cell_type": "code",
   "execution_count": null,
   "metadata": {},
   "outputs": [],
   "source": [
    "%load_ext autoreload\n",
    "%autoreload 2"
   ]
  },
  {
   "cell_type": "code",
   "execution_count": null,
   "metadata": {},
   "outputs": [],
   "source": [
    "from dtoolbioimage import ImageDataSet, Image3D, Image\n",
    "import numpy as np"
   ]
  },
  {
   "cell_type": "code",
   "execution_count": null,
   "metadata": {},
   "outputs": [],
   "source": [
    "imageds = ImageDataSet('azure://jicimagedatasets/cc9d757a-b149-4626-83be-abc5a3765cb8')"
   ]
  },
  {
   "cell_type": "code",
   "execution_count": null,
   "metadata": {},
   "outputs": [],
   "source": []
  },
  {
   "cell_type": "code",
   "execution_count": null,
   "metadata": {},
   "outputs": [],
   "source": [
    "venus_stack = imageds.get_stack('fca-3_FLC-Venus_root01', 'fca-3_FLC-Venus_root01 #1', 0)"
   ]
  },
  {
   "cell_type": "code",
   "execution_count": null,
   "metadata": {},
   "outputs": [],
   "source": [
    "from dtoolbioimage.segment import Segmentation3D"
   ]
  },
  {
   "cell_type": "code",
   "execution_count": null,
   "metadata": {},
   "outputs": [],
   "source": [
    "raw_segmentation = Segmentation3D.from_file('root01segmentation.tif')"
   ]
  },
  {
   "cell_type": "code",
   "execution_count": null,
   "metadata": {},
   "outputs": [],
   "source": [
    "from dtoolbioimage.util.shape import spherality"
   ]
  },
  {
   "cell_type": "code",
   "execution_count": null,
   "metadata": {},
   "outputs": [],
   "source": [
    "spherality_map = {l: spherality(raw_segmentation.region_in_bb(l)) for l in raw_segmentation.labels}"
   ]
  },
  {
   "cell_type": "code",
   "execution_count": null,
   "metadata": {},
   "outputs": [],
   "source": [
    "spherality_map"
   ]
  },
  {
   "cell_type": "code",
   "execution_count": null,
   "metadata": {},
   "outputs": [],
   "source": [
    "class SegmentationHeatMapPalette(object):\n",
    "    \n",
    "    def __init__(self, label_value_map):\n",
    "        values = label_value_map.values()\n",
    "        self.min_val = min(values)\n",
    "        self.max_val = max(values)\n",
    "                \n",
    "        self.label_value_map = label_value_map\n",
    "        \n",
    "        assert self.max_val - self.min_val > 0\n",
    "        \n",
    "    def get_rgb_color(self, value):\n",
    "        \n",
    "        normalised_val = (value - self.min_val) / (self.max_val - self.min_val)\n",
    "        \n",
    "        g = int(normalised_val * 255)\n",
    "        r = 255 - g\n",
    "        b = g\n",
    "        \n",
    "        return r, g, b\n",
    "    \n",
    "    def __getitem__(self, key):\n",
    "        \n",
    "        default = [0, 0, 0]\n",
    "        \n",
    "        if key in self.label_value_map:\n",
    "            value = self.label_value_map[key]\n",
    "            return self.get_rgb_color(value)\n",
    "        else:\n",
    "            return default\n"
   ]
  },
  {
   "cell_type": "code",
   "execution_count": null,
   "metadata": {},
   "outputs": [],
   "source": [
    "palette = SegmentationHeatMapPalette(spherality_map)"
   ]
  },
  {
   "cell_type": "code",
   "execution_count": null,
   "metadata": {},
   "outputs": [],
   "source": [
    "palette.get_rgb_color(0.432)"
   ]
  },
  {
   "cell_type": "code",
   "execution_count": null,
   "metadata": {},
   "outputs": [],
   "source": [
    "palette[-10]"
   ]
  },
  {
   "cell_type": "code",
   "execution_count": null,
   "metadata": {},
   "outputs": [],
   "source": [
    "from dtoolbioimage.util.array import color_array    "
   ]
  },
  {
   "cell_type": "code",
   "execution_count": null,
   "metadata": {},
   "outputs": [],
   "source": [
    "ca = color_array(raw_segmentation[:,:,10], palette)"
   ]
  },
  {
   "cell_type": "code",
   "execution_count": null,
   "metadata": {},
   "outputs": [],
   "source": [
    "ca.view(Image)"
   ]
  },
  {
   "cell_type": "code",
   "execution_count": null,
   "metadata": {},
   "outputs": [],
   "source": [
    "def filter_by_label_value_map(segmentation, label_value_map, threshold):\n",
    "    result = segmentation.copy()\n",
    "    \n",
    "    for l, val in label_value_map.items():\n",
    "        if val < threshold:\n",
    "            result[np.where(segmentation == l)] = 0\n",
    "            \n",
    "    return result.view(Segmentation3D)"
   ]
  },
  {
   "cell_type": "code",
   "execution_count": null,
   "metadata": {},
   "outputs": [],
   "source": [
    "filtered_segmentation = filter_by_label_value_map(raw_segmentation, spherality_map, 0.4)\n",
    "filtered_segmentation"
   ]
  },
  {
   "cell_type": "code",
   "execution_count": null,
   "metadata": {},
   "outputs": [],
   "source": [
    "from dtoolbioimage import zoom_to_match_scales"
   ]
  },
  {
   "cell_type": "code",
   "execution_count": null,
   "metadata": {},
   "outputs": [],
   "source": [
    "zoomed_venus_stack = zoom_to_match_scales(venus_stack)"
   ]
  },
  {
   "cell_type": "code",
   "execution_count": null,
   "metadata": {},
   "outputs": [],
   "source": [
    "def measure_by_label(segmentation, l):\n",
    "    region_coords = np.where(segmentation==l)\n",
    "    value = sum(zoomed_venus_stack[region_coords])\n",
    "    size = len(region_coords[0])\n",
    "    return value / size"
   ]
  },
  {
   "cell_type": "code",
   "execution_count": null,
   "metadata": {},
   "outputs": [],
   "source": [
    "from scipy.ndimage.morphology import binary_erosion\n",
    "def eroded_measure_by_label(segmentation, l):\n",
    "    region_coords = np.where(segmentation==l)\n",
    "    erodable = np.zeros(segmentation.shape, dtype=np.bool_)\n",
    "    erodable[region_coords] = True\n",
    "    eroded = binary_erosion(erodable)\n",
    "    value = sum(zoomed_venus_stack[region_coords])\n",
    "    size = len(region_coords[0])\n",
    "    return value / size"
   ]
  },
  {
   "cell_type": "code",
   "execution_count": null,
   "metadata": {},
   "outputs": [],
   "source": [
    "measure_by_label(filtered_segmentation, 5)"
   ]
  },
  {
   "cell_type": "code",
   "execution_count": null,
   "metadata": {},
   "outputs": [],
   "source": [
    "def make_heatmap(segmentation):\n",
    "    measures = {l: measure_by_label(segmentation, l) for l in segmentation.labels}\n",
    "    \n",
    "    palette = SegmentationHeatMapPalette(measures)\n",
    "    \n",
    "    return color_array(segmentation[:,:,10], palette).view(Image)"
   ]
  },
  {
   "cell_type": "code",
   "execution_count": null,
   "metadata": {},
   "outputs": [],
   "source": [
    "make_heatmap(filtered_segmentation)"
   ]
  },
  {
   "cell_type": "code",
   "execution_count": null,
   "metadata": {},
   "outputs": [],
   "source": [
    "zoomed_venus_stack[:,:,10]"
   ]
  },
  {
   "cell_type": "code",
   "execution_count": null,
   "metadata": {},
   "outputs": [],
   "source": [
    "from dtoolbioimage.region import Region"
   ]
  },
  {
   "cell_type": "code",
   "execution_count": null,
   "metadata": {},
   "outputs": [],
   "source": [
    "r = Region.select_from_array(filtered_segmentation, 5)"
   ]
  },
  {
   "cell_type": "code",
   "execution_count": null,
   "metadata": {},
   "outputs": [],
   "source": [
    "r.view(Image3D)"
   ]
  },
  {
   "cell_type": "code",
   "execution_count": null,
   "metadata": {},
   "outputs": [],
   "source": [
    "from scipy.ndimage.morphology import binary_erosion"
   ]
  },
  {
   "cell_type": "code",
   "execution_count": null,
   "metadata": {},
   "outputs": [],
   "source": [
    "eroded = binary_erosion(r)"
   ]
  },
  {
   "cell_type": "code",
   "execution_count": null,
   "metadata": {},
   "outputs": [],
   "source": [
    "eroded.view(Image3D)"
   ]
  },
  {
   "cell_type": "code",
   "execution_count": null,
   "metadata": {},
   "outputs": [],
   "source": [
    "np.sum(r)"
   ]
  },
  {
   "cell_type": "code",
   "execution_count": null,
   "metadata": {},
   "outputs": [],
   "source": [
    "np.sum(eroded)"
   ]
  },
  {
   "cell_type": "code",
   "execution_count": null,
   "metadata": {},
   "outputs": [],
   "source": [
    "def erode_all(segmentation, iterations=3):\n",
    "    result = np.zeros(segmentation.shape, dtype=np.uint32)\n",
    "    \n",
    "    for l in segmentation.labels:\n",
    "        r = Region.select_from_array(segmentation, l)\n",
    "        eroded = binary_erosion(r, iterations=iterations)\n",
    "        result[np.where(eroded)] = l\n",
    "        \n",
    "    return result.view(Segmentation3D)"
   ]
  },
  {
   "cell_type": "code",
   "execution_count": null,
   "metadata": {},
   "outputs": [],
   "source": [
    "eroded_segmentation = erode_all(filtered_segmentation)"
   ]
  },
  {
   "cell_type": "code",
   "execution_count": null,
   "metadata": {},
   "outputs": [],
   "source": [
    "eroded_segmentation"
   ]
  },
  {
   "cell_type": "code",
   "execution_count": null,
   "metadata": {},
   "outputs": [],
   "source": [
    "make_heatmap(eroded_segmentation)"
   ]
  },
  {
   "cell_type": "code",
   "execution_count": null,
   "metadata": {},
   "outputs": [],
   "source": []
  }
 ],
 "metadata": {
  "kernelspec": {
   "display_name": "Python 3",
   "language": "python",
   "name": "python3"
  },
  "language_info": {
   "codemirror_mode": {
    "name": "ipython",
    "version": 3
   },
   "file_extension": ".py",
   "mimetype": "text/x-python",
   "name": "python",
   "nbconvert_exporter": "python",
   "pygments_lexer": "ipython3",
   "version": "3.6.5"
  }
 },
 "nbformat": 4,
 "nbformat_minor": 2
}
